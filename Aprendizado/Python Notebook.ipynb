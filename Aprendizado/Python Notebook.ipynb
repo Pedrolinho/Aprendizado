{
 "cells": [
  {
   "cell_type": "markdown",
   "metadata": {},
   "source": [
    "# Python Básico\n",
    "---"
   ]
  },
  {
   "cell_type": "markdown",
   "metadata": {},
   "source": [
    "## _Print_"
   ]
  },
  {
   "cell_type": "code",
   "execution_count": 4,
   "metadata": {},
   "outputs": [
    {
     "name": "stdout",
     "output_type": "stream",
     "text": [
      "Oi\n"
     ]
    }
   ],
   "source": [
    "# Mostra o dado dentro dos parenteses\n",
    "\n",
    "print('Oi')"
   ]
  },
  {
   "cell_type": "markdown",
   "metadata": {},
   "source": [
    "## _Comentários_"
   ]
  },
  {
   "cell_type": "code",
   "execution_count": null,
   "metadata": {},
   "outputs": [],
   "source": [
    "# Comentário de única linha\n",
    "\n",
    "'''\n",
    "Comentário de múltiplas linhas\n",
    "'''"
   ]
  },
  {
   "cell_type": "markdown",
   "metadata": {},
   "source": [
    "## _Tipos de Dados_"
   ]
  },
  {
   "cell_type": "markdown",
   "metadata": {},
   "source": [
    "- String - Texto\n",
    "- Integer/Float - Número\n",
    "- Boolean - Verdadeiro ou Falso\n"
   ]
  },
  {
   "cell_type": "markdown",
   "metadata": {},
   "source": [
    "## _Variáveis_"
   ]
  },
  {
   "cell_type": "code",
   "execution_count": 10,
   "metadata": {},
   "outputs": [],
   "source": [
    "# Definindo o nome de uma variável e o valor dela\n",
    "\n",
    "A = 30 #int\n",
    "B = 3.5 #float\n",
    "C = 'Olá' #string"
   ]
  },
  {
   "cell_type": "code",
   "execution_count": 11,
   "metadata": {},
   "outputs": [
    {
     "name": "stdout",
     "output_type": "stream",
     "text": [
      "3030\n",
      "6\n",
      "6\n"
     ]
    }
   ],
   "source": [
    "#Modificando o tipo do dado\n",
    "\n",
    "D = str(30)\n",
    "E = int(3.5)\n",
    "F = int('3')\n",
    "\n",
    "print(D + D)\n",
    "print(E + E)\n",
    "print(F + F)"
   ]
  },
  {
   "cell_type": "code",
   "execution_count": 9,
   "metadata": {},
   "outputs": [
    {
     "name": "stdout",
     "output_type": "stream",
     "text": [
      "O Pedro tem 19 anos e mora em Peruíbe.\n"
     ]
    }
   ],
   "source": [
    "#Integrando variáveis em um print\n",
    "\n",
    "#O Pedro tem 19 anos e mora em Peruíbe.\n",
    "\n",
    "nome = 'Pedro' \n",
    "idade = 19\n",
    "cidade = 'Peruíbe'\n",
    "\n",
    "print('O ' + nome + ' tem ' + str(idade) + ' anos e mora em ' + cidade + '.')"
   ]
  },
  {
   "cell_type": "markdown",
   "metadata": {},
   "source": [
    "## _Entrada de Dados: Input_"
   ]
  },
  {
   "cell_type": "code",
   "execution_count": 17,
   "metadata": {},
   "outputs": [
    {
     "name": "stdout",
     "output_type": "stream",
     "text": [
      "João\n"
     ]
    }
   ],
   "source": [
    "# Definindo uma variável com um input\n",
    "\n",
    "nome = input('Qual é o seu nome?') \n",
    "print(nome)"
   ]
  },
  {
   "cell_type": "code",
   "execution_count": 1,
   "metadata": {},
   "outputs": [
    {
     "name": "stdout",
     "output_type": "stream",
     "text": [
      "<class 'int'>\n",
      "Idade: 20 anos.\n"
     ]
    }
   ],
   "source": [
    "# Calculando a idade com um input\n",
    "\n",
    "ano = input('Em que ano você nasceu?')\n",
    "idade = int(2022 - int(ano))\n",
    "\n",
    "print(type(idade))\n",
    "print('Idade: ' + str(idade) + ' anos.')"
   ]
  },
  {
   "cell_type": "markdown",
   "metadata": {},
   "source": [
    "## _Slice_"
   ]
  },
  {
   "cell_type": "code",
   "execution_count": 23,
   "metadata": {},
   "outputs": [
    {
     "name": "stdout",
     "output_type": "stream",
     "text": [
      "A\n",
      "Abaca\n",
      "tac\n",
      "3\n",
      "3.1\n",
      "41.3\n"
     ]
    }
   ],
   "source": [
    "# Printa as posições especificadas de uma variável string\n",
    "#        0123456 \n",
    "\n",
    "fruta = 'Abacate'\n",
    "valor = 3.14\n",
    "valor = str(valor)\n",
    "\n",
    "print(fruta[0])\n",
    "print(fruta[0:5])\n",
    "print(fruta[5:2:-1])\n",
    "\n",
    "print(valor[0])\n",
    "print(valor[0:3])\n",
    "print(valor[::-1])\n"
   ]
  },
  {
   "cell_type": "markdown",
   "metadata": {},
   "source": [
    "## _Formated String_"
   ]
  },
  {
   "cell_type": "code",
   "execution_count": 26,
   "metadata": {},
   "outputs": [
    {
     "name": "stdout",
     "output_type": "stream",
     "text": [
      "A Giovana é minha namorada e ela é muito linda.\n",
      "A Giovana é minha namorada e ela é muito linda.\n"
     ]
    }
   ],
   "source": [
    "# Facilita a incerção de variáveis dentro de uma string\n",
    "\n",
    "# A Giovana é minha namorada e ela é muito linda.\n",
    "\n",
    "nome = 'Giovana'\n",
    "relação = 'namorada'\n",
    "adjetivo = 'linda'\n",
    "\n",
    "# Sem formated string\n",
    "texto1 = 'A ' + nome + ' é minha ' + relação + ' e ela é muito ' + adjetivo + '.'\n",
    "\n",
    "# Com formated string\n",
    "texto2 = f'A {nome} é minha {relação} e ela é muito {adjetivo}.'\n",
    "\n",
    "print(texto1)\n",
    "print(texto2)\n"
   ]
  },
  {
   "cell_type": "markdown",
   "metadata": {},
   "source": [
    "## _Métodos para Strings_"
   ]
  },
  {
   "cell_type": "code",
   "execution_count": 48,
   "metadata": {},
   "outputs": [
    {
     "name": "stdout",
     "output_type": "stream",
     "text": [
      "Olá meu nome é pedro\n",
      "5\n",
      "OLÁ MEU NOME É PEDRO\n",
      "olá meu nome é pedro\n",
      "olá mau noma é Padro\n",
      "3\n"
     ]
    }
   ],
   "source": [
    "# Métodos para manipular as strings no print\n",
    "\n",
    "mensagem = 'olá meu nome é Pedro'\n",
    "\n",
    "print(mensagem.capitalize())\n",
    "print(mensagem.find('e'))\n",
    "print(mensagem.upper())\n",
    "print(mensagem.lower())\n",
    "print(mensagem.replace('e','a'))\n",
    "print(mensagem.count('e'))"
   ]
  },
  {
   "cell_type": "markdown",
   "metadata": {},
   "source": [
    "# Operadores\n",
    "---"
   ]
  },
  {
   "cell_type": "markdown",
   "metadata": {},
   "source": [
    "## Operadores Matemáticos"
   ]
  },
  {
   "cell_type": "code",
   "execution_count": 54,
   "metadata": {},
   "outputs": [],
   "source": [
    "# Variáveis \n",
    "\n",
    "x = 5\n",
    "y = 2"
   ]
  },
  {
   "cell_type": "code",
   "execution_count": 60,
   "metadata": {},
   "outputs": [
    {
     "name": "stdout",
     "output_type": "stream",
     "text": [
      "7\n",
      "3\n"
     ]
    }
   ],
   "source": [
    "# Adição \n",
    "print(x + y)\n",
    "\n",
    "# Subtração \n",
    "print(x - y)"
   ]
  },
  {
   "cell_type": "code",
   "execution_count": 59,
   "metadata": {},
   "outputs": [
    {
     "name": "stdout",
     "output_type": "stream",
     "text": [
      "7\n",
      "25\n"
     ]
    }
   ],
   "source": [
    "# Multiplicação\n",
    "print(x + y)\n",
    "\n",
    "# Exponenciação\n",
    "print(x ** y)"
   ]
  },
  {
   "cell_type": "code",
   "execution_count": 61,
   "metadata": {},
   "outputs": [
    {
     "name": "stdout",
     "output_type": "stream",
     "text": [
      "2.5\n",
      "2\n",
      "1\n"
     ]
    }
   ],
   "source": [
    "# Divisão\n",
    "print(x / y)\n",
    "\n",
    "# Divisão Inteiro\n",
    "print(x // y)\n",
    "\n",
    "# Divisão Resto\n",
    "print(x % y)"
   ]
  },
  {
   "cell_type": "markdown",
   "metadata": {},
   "source": [
    "## Operadores de Comparação"
   ]
  },
  {
   "cell_type": "code",
   "execution_count": 66,
   "metadata": {},
   "outputs": [
    {
     "name": "stdout",
     "output_type": "stream",
     "text": [
      "True\n",
      "False\n",
      "True\n",
      "False\n",
      "True\n",
      "False\n"
     ]
    }
   ],
   "source": [
    "# Equal\n",
    "operadores = 10 == 10\n",
    "print(operadores)\n",
    "\n",
    "# Not Equal \n",
    "operadores = 10 != 10\n",
    "print(operadores)\n",
    "\n",
    "# Greater Than\n",
    "operadores = 10 > 5\n",
    "print(operadores)\n",
    "\n",
    "# Less Than \n",
    "operadores = 10 < 5\n",
    "print(operadores)\n",
    "\n",
    "# Greater Than or Less To\n",
    "operadores = 10 >= 10\n",
    "print(operadores)\n",
    "\n",
    "# Less Than or Equal To\n",
    "operadores = 15 <= 10\n",
    "print(operadores)"
   ]
  },
  {
   "cell_type": "markdown",
   "metadata": {},
   "source": [
    "## Operadores de Atribuição"
   ]
  },
  {
   "cell_type": "code",
   "execution_count": 74,
   "metadata": {},
   "outputs": [
    {
     "name": "stdout",
     "output_type": "stream",
     "text": [
      "x = 7, y = 3 e z = 25.\n"
     ]
    }
   ],
   "source": [
    "# Uma alternativa para simplificar cálculos \n",
    "\n",
    "x = 5\n",
    "y = 5\n",
    "z = 5 \n",
    "\n",
    "# x = x + 2\n",
    "x += 2\n",
    "\n",
    "# y = y - 2\n",
    "y -= 2\n",
    "\n",
    "# z = z ** 2\n",
    "z **= 2  \n",
    "\n",
    "print(f'x = {x}, y = {y} e z = {z}.')"
   ]
  },
  {
   "cell_type": "markdown",
   "metadata": {},
   "source": [
    "# Controle de Fluxo\n",
    "---\n"
   ]
  },
  {
   "cell_type": "markdown",
   "metadata": {},
   "source": [
    "## _If, Elif e Else_"
   ]
  },
  {
   "cell_type": "code",
   "execution_count": 79,
   "metadata": {},
   "outputs": [
    {
     "name": "stdout",
     "output_type": "stream",
     "text": [
      "Você excedeu a velocidade permitida\n",
      "Você está OK\n",
      "Você está muito lento\n"
     ]
    }
   ],
   "source": [
    "# Determinando instruções para situações condicionais\n",
    "\n",
    "#If - Se a condição for verdadeira, executa o código\n",
    "#Elif - Se a condição for verdadeira e as anteriores falsas, executa o código\n",
    "#Else - Se nenhuma das condições anteriores forem verdadeiras, executa o código\n",
    "\n",
    "velocidade = 100\n",
    "if velocidade > 90:\n",
    "    print('Você excedeu a velocidade permitida')\n",
    "\n",
    "velocidade = 80\n",
    "if velocidade > 90:\n",
    "    print('Você excedeu a velocidade permitida')\n",
    "elif velocidade > 70:\n",
    "    print('Você está OK')\n",
    "elif velocidade > 50:\n",
    "    print('Você está muito lento')\n",
    "\n",
    "velocidade = 70\n",
    "if velocidade > 90:\n",
    "    print('Você excedeu a velocidade permitida')\n",
    "elif velocidade > 70:\n",
    "    print('Você está OK')\n",
    "else:\n",
    "    print('Você está muito lento')\n",
    "\n",
    "\n"
   ]
  },
  {
   "cell_type": "markdown",
   "metadata": {},
   "source": [
    "## _Operadores Lógicos_"
   ]
  },
  {
   "cell_type": "code",
   "execution_count": 82,
   "metadata": {},
   "outputs": [
    {
     "name": "stdout",
     "output_type": "stream",
     "text": [
      "Aprovado\n",
      "Reprovado\n",
      "Aprovado\n",
      "Aprovado\n"
     ]
    }
   ],
   "source": [
    "# Verifica duas ou mais condições em um if\n",
    "\n",
    "nota = 7\n",
    "frequência = 75\n",
    "\n",
    "#And\n",
    "if nota >= 7 and frequência >=75:\n",
    "    print('Aprovado')\n",
    "\n",
    "if nota >= 7.5 and frequência >=75:\n",
    "    print('Aprovado')\n",
    "else:\n",
    "    print('Reprovado')\n",
    "\n",
    "#Or\n",
    "if nota >= 7 or frequência >=75:\n",
    "    print('Aprovado')\n",
    "\n",
    "if nota >= 7.5 or frequência >=75:\n",
    "    print('Aprovado')\n",
    "else:\n",
    "    print('Reprovado')\n"
   ]
  },
  {
   "cell_type": "code",
   "execution_count": 87,
   "metadata": {},
   "outputs": [
    {
     "name": "stdout",
     "output_type": "stream",
     "text": [
      "Recuperação\n"
     ]
    }
   ],
   "source": [
    "nota = 5\n",
    "\n",
    "if 4 <= nota <= 7:\n",
    "    print('Recuperação')"
   ]
  },
  {
   "cell_type": "markdown",
   "metadata": {},
   "source": [
    "## _Operador Ternário_"
   ]
  },
  {
   "cell_type": "code",
   "execution_count": 86,
   "metadata": {},
   "outputs": [
    {
     "name": "stdout",
     "output_type": "stream",
     "text": [
      "Voto não permitido\n"
     ]
    }
   ],
   "source": [
    "# Simplifica o If e Else\n",
    "\n",
    "idade = 15\n",
    "\n",
    "resultado = 'Voto permitido' if idade >= 16 else 'Voto não permitido'\n",
    "print(resultado)"
   ]
  },
  {
   "cell_type": "markdown",
   "metadata": {},
   "source": [
    "## _For Loop_"
   ]
  },
  {
   "cell_type": "code",
   "execution_count": 17,
   "metadata": {},
   "outputs": [
    {
     "name": "stdout",
     "output_type": "stream",
     "text": [
      "5\n",
      "7\n",
      "9\n"
     ]
    }
   ],
   "source": [
    "# For Loop para números\n",
    "\n",
    "for número in range(5, 10, 2):\n",
    "    print(número)"
   ]
  },
  {
   "cell_type": "code",
   "execution_count": 20,
   "metadata": {},
   "outputs": [
    {
     "name": "stdout",
     "output_type": "stream",
     "text": [
      "G\n",
      "I\n",
      "O\n",
      "L\n",
      "I\n",
      "N\n",
      "D\n",
      "A\n"
     ]
    }
   ],
   "source": [
    "# For Loop para strings\n",
    "\n",
    "palavra = 'Giolinda'\n",
    "\n",
    "for letra in palavra:\n",
    "    print(letra.upper())"
   ]
  },
  {
   "cell_type": "markdown",
   "metadata": {},
   "source": [
    "## _For + If/Else_"
   ]
  },
  {
   "cell_type": "code",
   "execution_count": 34,
   "metadata": {},
   "outputs": [
    {
     "name": "stdout",
     "output_type": "stream",
     "text": [
      "Restam 2 tentativas até a compra ser rejeitada.\n",
      "Restam 1 tentativas até a compra ser rejeitada.\n",
      "A sua compra foi confirmada.\n"
     ]
    }
   ],
   "source": [
    "# Integração de um loop com uma condicional\n",
    "\n",
    "confirmação = False\n",
    "contador = 0\n",
    "tentativas = 3\n",
    "\n",
    "for enviar in range(3):\n",
    "    if confirmação:\n",
    "        print('A sua compra foi confirmada.')\n",
    "        break\n",
    "    contador += 1\n",
    "    tentativas-=1\n",
    "    confirmação = True if contador == 2 else False \n",
    "    print(f'Restam {tentativas} tentativas até a compra ser rejeitada.')\n",
    "        \n",
    "else:\n",
    "    print ('A sua compra não foi confirmada.')"
   ]
  },
  {
   "cell_type": "markdown",
   "metadata": {},
   "source": [
    "## _For + For (Nested)_"
   ]
  },
  {
   "cell_type": "code",
   "execution_count": 40,
   "metadata": {},
   "outputs": [
    {
     "name": "stdout",
     "output_type": "stream",
     "text": [
      "Produto 1\n",
      "1 0\n",
      "1 1\n",
      "1 2\n",
      "1 3\n",
      "1 4\n",
      "Produto 2\n",
      "2 0\n",
      "2 1\n",
      "2 2\n",
      "2 3\n",
      "2 4\n"
     ]
    }
   ],
   "source": [
    "# Integração de dois ou mais loops\n",
    "\n",
    "for produto in range(1,3):\n",
    "    print(f'Produto {produto}')\n",
    "    for quantidade in range (5):\n",
    "        print (produto, quantidade)"
   ]
  },
  {
   "cell_type": "markdown",
   "metadata": {},
   "source": [
    "## _Separando Strings_"
   ]
  },
  {
   "cell_type": "code",
   "execution_count": 16,
   "metadata": {},
   "outputs": [
    {
     "name": "stdout",
     "output_type": "stream",
     "text": [
      "S E P A R A D O R "
     ]
    }
   ],
   "source": [
    "# Separando as letras de uma string\n",
    "\n",
    "palavra = 'SEPARADOR'\n",
    "\n",
    "for separa in palavra:\n",
    "    print(f'{separa} ', end='')"
   ]
  },
  {
   "cell_type": "code",
   "execution_count": 48,
   "metadata": {},
   "outputs": [
    {
     "name": "stdout",
     "output_type": "stream",
     "text": [
      "@@@@@@@@@@\n",
      "@@@@@@@@@@\n",
      "@@@@@@@@@@\n"
     ]
    }
   ],
   "source": [
    "# Fazendo um retângulo com for loop nested\n",
    "\n",
    "'''\n",
    "@@@@@@@@@@\n",
    "@@@@@@@@@@\n",
    "@@@@@@@@@@\n",
    "'''\n",
    "\n",
    "for linha in range(3):\n",
    "    for coluna in range (10):\n",
    "        print('@', end='')\n",
    "    print()"
   ]
  },
  {
   "cell_type": "markdown",
   "metadata": {},
   "source": [
    "## _While Loop_"
   ]
  },
  {
   "cell_type": "code",
   "execution_count": 59,
   "metadata": {},
   "outputs": [
    {
     "name": "stdout",
     "output_type": "stream",
     "text": [
      "No 1° dia de vendas o preço do tênis foi R$100.0.\n",
      "No 2° dia de vendas o preço do tênis foi R$95.0.\n",
      "No 3° dia de vendas o preço do tênis foi R$90.0.\n",
      "No 4° dia de vendas o preço do tênis foi R$85.0.\n",
      "No 5° dia de vendas o preço do tênis foi R$80.0.\n",
      "No 6° dia de vendas o preço do tênis foi R$75.0.\n",
      "No 7° dia de vendas o preço do tênis foi R$70.0.\n"
     ]
    }
   ],
   "source": [
    "# Loop que depende de uma condição\n",
    "\n",
    "#Valor do tênis cai com o passar dos dias, com o limite de R$70.0\n",
    "\n",
    "valor = 100\n",
    "valor = float(valor)\n",
    "dia = 1\n",
    "\n",
    "while valor >= 70:\n",
    "    print(f'No {dia}° dia de vendas o preço do tênis foi R${valor}.')\n",
    "    valor -= 5\n",
    "    dia += 1"
   ]
  },
  {
   "cell_type": "markdown",
   "metadata": {},
   "source": [
    "# Funções\n",
    "---"
   ]
  },
  {
   "cell_type": "markdown",
   "metadata": {},
   "source": [
    "## _Ordem de Grandeza de Armazenamento_"
   ]
  },
  {
   "cell_type": "markdown",
   "metadata": {},
   "source": [
    "- Function < Module < Package < Library"
   ]
  },
  {
   "cell_type": "markdown",
   "metadata": {},
   "source": [
    "## _Função_"
   ]
  },
  {
   "cell_type": "code",
   "execution_count": 9,
   "metadata": {},
   "outputs": [
    {
     "name": "stdout",
     "output_type": "stream",
     "text": [
      "Olá! Seja bem vindo!\n"
     ]
    }
   ],
   "source": [
    "# Armazena trecho de um código dentro de uma função que pode ser chamada posteriormente\n",
    "\n",
    "def boas_vindas():\n",
    "    print('Olá! Seja bem vindo!')\n",
    "\n",
    "boas_vindas()\n",
    "\n"
   ]
  },
  {
   "cell_type": "markdown",
   "metadata": {},
   "source": [
    "## _Parâmetros e Argumentos_"
   ]
  },
  {
   "cell_type": "code",
   "execution_count": 63,
   "metadata": {},
   "outputs": [
    {
     "name": "stdout",
     "output_type": "stream",
     "text": [
      "Olá Pedro! \n",
      "Temos 5 celulares no estoque.\n",
      "Olá Giovana! \n",
      "Temos 4 celulares no estoque.\n"
     ]
    }
   ],
   "source": [
    "# Passagem de parâmetros para uma função através de argumentos\n",
    "\n",
    "def estoque(nome, quantidade):\n",
    "    print(f'Olá {nome}! \\nTemos {quantidade} celulares no estoque.')\n",
    "\n",
    "estoque('Pedro', 5)\n",
    "estoque('Giovana', 4)"
   ]
  },
  {
   "cell_type": "markdown",
   "metadata": {},
   "source": [
    "## _Argumentos Defaults e Non-Defaults_"
   ]
  },
  {
   "cell_type": "code",
   "execution_count": 65,
   "metadata": {},
   "outputs": [
    {
     "name": "stdout",
     "output_type": "stream",
     "text": [
      "Olá Pedro! \n",
      "Temos 5 celulares no estoque.\n",
      "Olá Giovana! \n",
      "Temos 6 celulares no estoque.\n"
     ]
    }
   ],
   "source": [
    "# Parâmetros podem ser pré-estabelecidos (defaults)\n",
    "# Ordem de prioridade: Non-Defaults > Defaults\n",
    "\n",
    "def estoque(nome, quantidade = 6):\n",
    "    print(f'Olá {nome}! \\nTemos {quantidade} celulares no estoque.')\n",
    "\n",
    "estoque('Pedro', 5)\n",
    "estoque('Giovana')"
   ]
  },
  {
   "cell_type": "markdown",
   "metadata": {},
   "source": [
    "## _Return_"
   ]
  },
  {
   "cell_type": "code",
   "execution_count": 14,
   "metadata": {},
   "outputs": [
    {
     "name": "stdout",
     "output_type": "stream",
     "text": [
      "2\n",
      "4\n",
      "8\n",
      "16\n",
      "32\n"
     ]
    }
   ],
   "source": [
    "# Retorna o resultado como um valor que pode ser armazenado\n",
    "\n",
    "def Soma(x):\n",
    "    x += x\n",
    "    return x\n",
    "\n",
    "x = 1\n",
    "for laranja in range(5):\n",
    "   x = Soma(x)\n",
    "   print(x)\n"
   ]
  },
  {
   "cell_type": "markdown",
   "metadata": {},
   "source": [
    "## _xArgs (Argumentos Indefinidos)_"
   ]
  },
  {
   "cell_type": "code",
   "execution_count": 21,
   "metadata": {},
   "outputs": [
    {
     "name": "stdout",
     "output_type": "stream",
     "text": [
      "120\n"
     ]
    }
   ],
   "source": [
    "# Referencia uma quantidade indefinida como parâmetro \n",
    "\n",
    "def multiplicação(*produto):\n",
    "\n",
    "    resultado = 1\n",
    "    for numero in produto:\n",
    "        resultado *= numero\n",
    "    return resultado\n",
    "\n",
    "resultado = multiplicação(1, 2, 3, 4, 5)\n",
    "print(resultado)        "
   ]
  },
  {
   "cell_type": "code",
   "execution_count": 38,
   "metadata": {},
   "outputs": [
    {
     "name": "stdout",
     "output_type": "stream",
     "text": [
      "{'Carro': 'Ford', 'Cor': 'Branco', 'Motor': '1.0'}\n",
      "{'Carro': 'Ford', 'Cor': 'Branco'}\n",
      "Carro\n"
     ]
    }
   ],
   "source": [
    "# Os argumentos podem ser nomeados\n",
    "\n",
    "def carro(**carac):\n",
    "    return carac\n",
    "\n",
    "print(carro(Carro = 'Ford', Cor = 'Branco', Motor = '1.0'))\n",
    "print(carro(Carro = 'Ford', Cor = 'Branco'))\n",
    "\n",
    "x = str(carro(Carro = 'Ford', Cor = 'Branco'))\n",
    "x_lista = x.split(', ')\n",
    "print(x_lista[0][2:7])"
   ]
  },
  {
   "cell_type": "markdown",
   "metadata": {},
   "source": [
    "## _Módulos_"
   ]
  },
  {
   "cell_type": "code",
   "execution_count": 14,
   "metadata": {},
   "outputs": [
    {
     "name": "stdout",
     "output_type": "stream",
     "text": [
      "24\n"
     ]
    },
    {
     "data": {
      "text/plain": [
       "24"
      ]
     },
     "execution_count": 14,
     "metadata": {},
     "output_type": "execute_result"
    }
   ],
   "source": [
    "# Um módulo armazena diversas funções que otimizam linhas de código\n",
    "\n",
    "import math as mth\n",
    "import numpy as np\n",
    "\n",
    "# Necessitando do código\n",
    "fatorial = 4; resultado = 1\n",
    "while fatorial >= 1:\n",
    "    resultado *= fatorial\n",
    "    fatorial -= 1  \n",
    "print(resultado)\n",
    "\n",
    "# Importando o código de um módulo e aplicando\n",
    "mth.factorial(4)"
   ]
  },
  {
   "cell_type": "markdown",
   "metadata": {},
   "source": [
    "# Estrutura de Dados\n",
    "---"
   ]
  },
  {
   "cell_type": "markdown",
   "metadata": {},
   "source": [
    "## _Listas_"
   ]
  },
  {
   "cell_type": "code",
   "execution_count": 43,
   "metadata": {},
   "outputs": [
    {
     "name": "stdout",
     "output_type": "stream",
     "text": [
      "['São Paulo', 'Flamengo', 'Palmeiras']\n"
     ]
    }
   ],
   "source": [
    "# Armazena mais de um dado de um variável \n",
    "# Mantém a sequência\n",
    "# Definido entre colchetes []\n",
    "\n",
    "time1 = 'São Paulo'\n",
    "time2 = 'Flamengo'\n",
    "time3 = 'Palmeiras'\n",
    "\n",
    "times = ['São Paulo', 'Flamengo', 'Palmeiras']\n",
    "print(times)"
   ]
  },
  {
   "cell_type": "code",
   "execution_count": 45,
   "metadata": {},
   "outputs": [
    {
     "name": "stdout",
     "output_type": "stream",
     "text": [
      "['São Paulo', 'Flamengo', 'Palmeiras']\n",
      "['Barcelona', 'Flamengo', 'Palmeiras']\n"
     ]
    }
   ],
   "source": [
    "# Manipulação de listas\n",
    "# Trocando uma váriavel \n",
    "\n",
    "time1 = 'São Paulo'\n",
    "time2 = 'Flamengo'\n",
    "time3 = 'Palmeiras'\n",
    "\n",
    "times = ['São Paulo', 'Flamengo', 'Palmeiras']\n",
    "print(times)\n",
    "\n",
    "times[0] = 'Barcelona'\n",
    "print(times)"
   ]
  },
  {
   "cell_type": "markdown",
   "metadata": {},
   "source": [
    "## _Funções Dentro de Listas_"
   ]
  },
  {
   "cell_type": "code",
   "execution_count": 50,
   "metadata": {},
   "outputs": [
    {
     "name": "stdout",
     "output_type": "stream",
     "text": [
      "['Pedro', 'André', 'Thiago', 'João']\n",
      "['Pedro', 'André', 'Thiago', 'João', 'Amauri']\n",
      "['Pedro', 'Toninho', 'André', 'Thiago', 'João', 'Amauri']\n",
      "['Pedro', 'Toninho', 'André', 'João', 'Amauri']\n",
      "['Pedro', 'André', 'João', 'Amauri']\n"
     ]
    }
   ],
   "source": [
    "# Funções que ajudam a manipular listas\n",
    "\n",
    "nomes = ['Pedro', 'André', 'Thiago', 'João']\n",
    "print(nomes)\n",
    "\n",
    "# Adiciona um item ao final da lista\n",
    "nomes.append('Amauri')\n",
    "print(nomes)\n",
    "\n",
    "# Adiciona um item em uma posição (index) específica \n",
    "nomes.insert(1, 'Toninho')\n",
    "print(nomes)\n",
    "\n",
    "# Remove um item específicado\n",
    "nomes.remove('Thiago')\n",
    "print(nomes)\n",
    "\n",
    "# Remove um item com index específicado\n",
    "nomes.pop(1)\n",
    "print(nomes)"
   ]
  },
  {
   "cell_type": "markdown",
   "metadata": {},
   "source": [
    "## _Concatenando Listas_"
   ]
  },
  {
   "cell_type": "code",
   "execution_count": 73,
   "metadata": {},
   "outputs": [
    {
     "name": "stdout",
     "output_type": "stream",
     "text": [
      "[1, 2, 3, 4, 'a', 'b', 'c', 'd']\n",
      "[1, 2, 3, 4, 'a', 'b', 'c', 'd']\n",
      "['Ricardo', 'Rodrigo']\n",
      "Estela\n"
     ]
    }
   ],
   "source": [
    "# Interação entre mais de uma lista\n",
    "\n",
    "números = [1, 2, 3, 4]\n",
    "letras = ['a', 'b', 'c', 'd']\n",
    "\n",
    "print(números + letras)\n",
    "\n",
    "números.extend(letras)\n",
    "print(números)\n",
    "\n",
    "# Sublistas\n",
    "\n",
    "nomes = [['Ricardo', 'Rodrigo'],['Maria', 'Estela']]\n",
    "\n",
    "print(nomes[0])\n",
    "print(nomes[1][1])"
   ]
  },
  {
   "cell_type": "markdown",
   "metadata": {},
   "source": [
    "## _Extraindo Variáveis de Listas_"
   ]
  },
  {
   "cell_type": "code",
   "execution_count": 78,
   "metadata": {},
   "outputs": [
    {
     "name": "stdout",
     "output_type": "stream",
     "text": [
      "Laranja\n",
      "Carne\n",
      "['Tomate', 'Salsinha']\n"
     ]
    }
   ],
   "source": [
    "# Designa os itens de uma lista para uma variável\n",
    "\n",
    "produtos = ['Laranja', 'Cebola', 'Tomate', 'Salsinha', 'Carne', 'Ovo']\n",
    "\n",
    "item1, item2, *outros, item4, item5 = produtos\n",
    "\n",
    "print(item1)\n",
    "print(item4)\n",
    "print(outros)"
   ]
  },
  {
   "cell_type": "markdown",
   "metadata": {},
   "source": [
    "## _For Loop com Listas_"
   ]
  },
  {
   "cell_type": "code",
   "execution_count": 81,
   "metadata": {},
   "outputs": [
    {
     "name": "stdout",
     "output_type": "stream",
     "text": [
      "O valor final do produto é R$40\n",
      "O valor final do produto é R$50\n",
      "O valor final do produto é R$60\n",
      "O valor final do produto é R$70\n",
      "O valor final do produto é R$80\n"
     ]
    }
   ],
   "source": [
    "# Loop para imprimir cada valor de dentro de uma lista\n",
    "\n",
    "valores = [40, 50, 60, 70, 80]\n",
    "\n",
    "for x in valores:\n",
    "    print(f'O valor final do produto é R${x}')"
   ]
  },
  {
   "cell_type": "markdown",
   "metadata": {},
   "source": [
    "## _Verificando Itens em uma Lista_"
   ]
  },
  {
   "cell_type": "code",
   "execution_count": 85,
   "metadata": {},
   "outputs": [
    {
     "name": "stdout",
     "output_type": "stream",
     "text": [
      "A cor cinza está em estoque.\n"
     ]
    }
   ],
   "source": [
    "# Verifica se a cor procurada pelo cliente está em estoque\n",
    "\n",
    "cor_cliente = input('Cor que você deseja: ')\n",
    "cores = ['amarelo', 'cinza', 'branco']\n",
    "\n",
    "if cor_cliente.lower() in cores: #Coloca todas as cores em minúsculo para comparar com precisão com a lista\n",
    "    print(f'A cor {cor_cliente.lower()} está em estoque.')\n",
    "else:\n",
    "    print(f'Não temos a cor {cor_cliente.lower()} em estoque.')\n"
   ]
  },
  {
   "cell_type": "markdown",
   "metadata": {},
   "source": [
    "## _Agregando duas Listas com Zip_"
   ]
  },
  {
   "cell_type": "code",
   "execution_count": 11,
   "metadata": {},
   "outputs": [
    {
     "name": "stdout",
     "output_type": "stream",
     "text": [
      "[('Amarelo', 1), ('Vermelho', 2), ('Verde', 3), ('Azul', 4)]\n"
     ]
    }
   ],
   "source": [
    "# Junta duas listas por index através da função zip \n",
    " \n",
    "cor = ['Amarelo', 'Vermelho', 'Verde', 'Azul']\n",
    "número = [1, 2, 3, 4]\n",
    "\n",
    "lista = zip(cor, número)\n",
    "print(list(lista))\n"
   ]
  },
  {
   "cell_type": "markdown",
   "metadata": {},
   "source": [
    "## _Input em uma Lista com a Função Split_"
   ]
  },
  {
   "cell_type": "code",
   "execution_count": 3,
   "metadata": {},
   "outputs": [
    {
     "name": "stdout",
     "output_type": "stream",
     "text": [
      "['Laranja', 'Pera', 'Maçã', 'Melancia']\n"
     ]
    }
   ],
   "source": [
    "frutas = input('Digite frutas separadas por um espaço:')\n",
    "frutas_lista = frutas.split()\n",
    "\n",
    "print(frutas_lista)\n"
   ]
  },
  {
   "cell_type": "markdown",
   "metadata": {},
   "source": [
    "## _Tuples_"
   ]
  },
  {
   "cell_type": "code",
   "execution_count": 13,
   "metadata": {},
   "outputs": [
    {
     "name": "stdout",
     "output_type": "stream",
     "text": [
      "('Olá', 'meu', 'nome', 'é', 'Pedro')\n"
     ]
    }
   ],
   "source": [
    "# Um tipo de lista, porém com suas variáveis imutáveis\n",
    "# Tuple otimiza o código, pois gasta menos espaço de memória\n",
    "# Definido entre parênteses ()\n",
    "\n",
    "cores = ('Olá', 'meu', 'nome', 'é', 'Pedro')\n",
    "print(cores)"
   ]
  },
  {
   "cell_type": "markdown",
   "metadata": {},
   "source": [
    "## _Array (Matriz)_"
   ]
  },
  {
   "cell_type": "code",
   "execution_count": 25,
   "metadata": {},
   "outputs": [
    {
     "name": "stdout",
     "output_type": "stream",
     "text": [
      "[1 2 3 4]\n"
     ]
    }
   ],
   "source": [
    "# Um tipo de lista, possui variáveis mutáveis\n",
    "# Array otimiza o código, pois gasta menos espaço de memória\n",
    "# Definido entre colchetes dentro de parênteses ([])\n",
    "\n",
    "x = np.array([1, 2, 3, 4])\n",
    "print(x)\n"
   ]
  },
  {
   "cell_type": "markdown",
   "metadata": {},
   "source": [
    "## _Sets_"
   ]
  },
  {
   "cell_type": "code",
   "execution_count": 32,
   "metadata": {},
   "outputs": [
    {
     "name": "stdout",
     "output_type": "stream",
     "text": [
      "{1, 2, 3, 4, 5, 6}\n",
      "{1, 2}\n",
      "{1, 2, 5, 6}\n",
      "{3, 4}\n",
      "{1, 2, 3, 4, 5, 6}\n"
     ]
    }
   ],
   "source": [
    "# Um tipo de lista, usado para comparações\n",
    "# Não utiliza index\n",
    "# Definido entre chaves {}\n",
    "\n",
    "list1 = {1, 2, 3, 4}\n",
    "list2 = {3, 4, 5, 6}\n",
    "\n",
    "print(list1 | list2) # Union - junta as duas listas\n",
    "print(list1 - list2) # Difference - seleciona os números da lista não comuns em relação a outra\n",
    "print(list1 ^ list2) # Symmetric Difference - seleciona todos os números diferentes entre as listas\n",
    "print(list1 & list2) # Intersection - seleciona todos os números em comum entre as listas\n",
    "\n",
    "# Também é possível realizar as mesmas comparações utilizando funções\n",
    "\n",
    "union = list1.union(list2)\n",
    "print(union)\n"
   ]
  },
  {
   "cell_type": "code",
   "execution_count": 40,
   "metadata": {},
   "outputs": [
    {
     "name": "stdout",
     "output_type": "stream",
     "text": [
      "{'Melão', 'Pera'}\n",
      "{'Melancia', 'Melão', 'Pera'}\n",
      "{'Kiwi', 'Melão', 'Pera', 'Melancia', 'Maçã'}\n",
      "{'Kiwi', 'Melão', 'Melancia', 'Maçã'}\n",
      "{'Kiwi', 'Melão', 'Melancia', 'Maçã'}\n"
     ]
    }
   ],
   "source": [
    "frutas = {'Pera', 'Melão'}\n",
    "print(frutas)\n",
    "\n",
    "# Adiciona outra variável\n",
    "frutas.add('Melancia')\n",
    "print(frutas)\n",
    "\n",
    "# Adiciona mais de uma variável\n",
    "frutas.update(['Maçã', 'Kiwi'])\n",
    "print(frutas)\n",
    "\n",
    "# Remove uma variável\n",
    "frutas.remove('Pera')\n",
    "print(frutas)\n",
    "\n",
    "# Descarta uma variável (Mesmo que não exista na lista ainda)\n",
    "frutas.discard('Jambolão')\n",
    "print(frutas)"
   ]
  },
  {
   "cell_type": "markdown",
   "metadata": {},
   "source": [
    "## _Dicionário_"
   ]
  },
  {
   "cell_type": "code",
   "execution_count": 45,
   "metadata": {},
   "outputs": [
    {
     "name": "stdout",
     "output_type": "stream",
     "text": [
      "{'Nome': 'Pedro', 'Idade': '20'}\n",
      "Pedro\n"
     ]
    }
   ],
   "source": [
    "# Funciona como uma lista\n",
    "# Armazena uma key e um value (key:value)\n",
    "\n",
    "aluno = {'Nome':input('Nome:'), 'Idade':input('Idade:')}\n",
    "index = 'Nome'\n",
    "\n",
    "print(aluno)\n",
    "print(aluno[index])\n"
   ]
  },
  {
   "cell_type": "code",
   "execution_count": 51,
   "metadata": {},
   "outputs": [
    {
     "name": "stdout",
     "output_type": "stream",
     "text": [
      "{'Nome': 'Giovana', 'Idade': 19, 'Nacionalidade': 'Brasileiro'}\n",
      "{'Nome': 'Afonso', 'Idade': 19, 'Nacionalidade': 'Brasileiro'}\n",
      "Esta informação não está catalogada no sistema.\n"
     ]
    }
   ],
   "source": [
    "# Atualizando uma key em um dicionário\n",
    "aluno['Nome'] = 'Giovana'\n",
    "print(aluno)\n",
    "\n",
    "# Atualizando/Adicionando mais de uma key em um dicionário\n",
    "aluno.update({'Nome':'Afonso', 'Idade':19, 'Nacionalidade':'Brasileiro'})\n",
    "print(aluno)\n",
    "\n",
    "# Procurando o valor de uma key, existente ou não, por função\n",
    "# É possível definir uma mensagem de erro\n",
    "print(aluno.get('Altura', 'Esta informação não está catalogada no sistema.'))\n"
   ]
  },
  {
   "cell_type": "markdown",
   "metadata": {},
   "source": [
    "## _For Loop com Dicionários_"
   ]
  },
  {
   "cell_type": "code",
   "execution_count": 59,
   "metadata": {},
   "outputs": [
    {
     "name": "stdout",
     "output_type": "stream",
     "text": [
      "Fruta\n",
      "Forma\n",
      "Peso\n",
      "\n",
      "Laranja\n",
      "Esfera\n",
      "150g\n",
      "\n",
      "Fruta Laranja\n",
      "Forma Esfera\n",
      "Peso 150g\n"
     ]
    }
   ],
   "source": [
    "fruta = {'Fruta':'Laranja', 'Forma':'Esfera', 'Peso':'150g'}\n",
    "\n",
    "# Printa as keys do dicionário\n",
    "for a in fruta.keys():\n",
    "    print(a)\n",
    "\n",
    "print()\n",
    "\n",
    "# Printa os values do dicionário\n",
    "for a in fruta.values():\n",
    "    print(a)\n",
    "\n",
    "print()\n",
    "\n",
    "# Printas as keys e os values do dicionário\n",
    "for a, b in fruta.items():\n",
    "    print(a, b)"
   ]
  },
  {
   "cell_type": "markdown",
   "metadata": {},
   "source": [
    "## _Função Lambda_"
   ]
  },
  {
   "cell_type": "code",
   "execution_count": 2,
   "metadata": {},
   "outputs": [
    {
     "name": "stdout",
     "output_type": "stream",
     "text": [
      "20\n"
     ]
    }
   ],
   "source": [
    "# Função simplicada em apenas uma expressão\n",
    "# Utilizada para reduzir pequenas funções\n",
    "\n",
    "somar = lambda x: x+10\n",
    "print(somar(10))"
   ]
  },
  {
   "cell_type": "markdown",
   "metadata": {},
   "source": [
    "## _Função Map em uma Lista_"
   ]
  },
  {
   "cell_type": "code",
   "execution_count": 7,
   "metadata": {},
   "outputs": [
    {
     "name": "stdout",
     "output_type": "stream",
     "text": [
      "[2, 4, 6, 8]\n",
      "2 4 6 8 "
     ]
    }
   ],
   "source": [
    "# utilizada para interagir uma lista com uma função\n",
    "# Com a função map, todas as variáveis de uma lista são utilizadas dentro da função\n",
    "\n",
    "list1 = [1, 2, 3, 4]\n",
    "\n",
    "def mult(x):\n",
    "    return x * 2\n",
    "\n",
    "list2 = map(mult, list1)\n",
    "print(list(list2))"
   ]
  },
  {
   "cell_type": "markdown",
   "metadata": {},
   "source": [
    "## _Função Map com Função Lambda_"
   ]
  },
  {
   "cell_type": "code",
   "execution_count": 8,
   "metadata": {},
   "outputs": [
    {
     "name": "stdout",
     "output_type": "stream",
     "text": [
      "[25, 100, 400, 1600]\n"
     ]
    }
   ],
   "source": [
    "# Integrando a função map com a função lambda\n",
    "\n",
    "list1 = [5, 10, 20, 40]\n",
    "\n",
    "print(list(map(lambda x: x ** 2, list1)))"
   ]
  },
  {
   "cell_type": "markdown",
   "metadata": {},
   "source": [
    "## _Função Filter_"
   ]
  },
  {
   "cell_type": "code",
   "execution_count": 10,
   "metadata": {},
   "outputs": [
    {
     "name": "stdout",
     "output_type": "stream",
     "text": [
      "[False, False, False, True, True, True]\n",
      "[59, 60, 90]\n"
     ]
    }
   ],
   "source": [
    "# Funciona semelhante ao map, porém retornando os valores\n",
    "\n",
    "valores = [1, 13, 48, 59, 60, 90]\n",
    "\n",
    "# Com Map\n",
    "print(list(map(lambda x: x > 50, valores)))\n",
    "\n",
    "# Com Filter\n",
    "print(list(filter(lambda x: x > 50, valores)))"
   ]
  },
  {
   "cell_type": "markdown",
   "metadata": {},
   "source": [
    "## _List Comprehension_"
   ]
  },
  {
   "cell_type": "code",
   "execution_count": 17,
   "metadata": {},
   "outputs": [
    {
     "name": "stdout",
     "output_type": "stream",
     "text": [
      "['Morango', 'Banana']\n"
     ]
    }
   ],
   "source": [
    "# Usado para a criação de uma lista a partir de uma outra lista\n",
    "# Reduz as linhas de código\n",
    "\n",
    "from sys import getsizeof\n",
    "\n",
    "frutas1 = ['Abacate', 'Kiwi', 'Morango', 'Banana']\n",
    "\n",
    "#lista2 = [item for item in lista 1 if 'x' in item]\n",
    "frutas2 = [item for item in frutas1 if 'n' in item]\n",
    "print(frutas2)"
   ]
  },
  {
   "cell_type": "code",
   "execution_count": 19,
   "metadata": {},
   "outputs": [
    {
     "name": "stdout",
     "output_type": "stream",
     "text": [
      "[0, 10, 20, 30, 40, 50]\n",
      "120\n"
     ]
    }
   ],
   "source": [
    "# List Comprehension com números\n",
    "\n",
    "preços = [x * 10 for x in range(6)]\n",
    "print(preços)\n",
    "\n",
    "#Espaço na memória\n",
    "print(getsizeof(preços))"
   ]
  },
  {
   "cell_type": "code",
   "execution_count": 18,
   "metadata": {},
   "outputs": [
    {
     "name": "stdout",
     "output_type": "stream",
     "text": [
      "[0, 10, 20, 30, 40, 50]\n",
      "112\n"
     ]
    }
   ],
   "source": [
    "# Generator Expressions, reduz a memória alocada\n",
    "\n",
    "números = (x * 10 for x in range(6))\n",
    "print(list(números))\n",
    "\n",
    "#Espaço na memória\n",
    "print(getsizeof(números))"
   ]
  },
  {
   "cell_type": "markdown",
   "metadata": {},
   "source": [
    "# Erros\n",
    "---"
   ]
  },
  {
   "cell_type": "markdown",
   "metadata": {},
   "source": [
    "## _Try e Except_"
   ]
  },
  {
   "cell_type": "code",
   "execution_count": 28,
   "metadata": {},
   "outputs": [
    {
     "name": "stdout",
     "output_type": "stream",
     "text": [
      "Você não digitou um número\n",
      "Resto do código...\n"
     ]
    }
   ],
   "source": [
    "# Métodos de isolar o erro no código, sem parar o funcionamento \n",
    "# Try - tentativa de executar o erro\n",
    "# Except - código executado em caso de erro no try\n",
    "\n",
    "try:\n",
    "    número = int(input('Digite um número: '))\n",
    "    print(número)\n",
    "except ValueError:\n",
    "    print('Você não digitou um número')\n",
    "\n",
    "print('Resto do código...')"
   ]
  },
  {
   "cell_type": "markdown",
   "metadata": {},
   "source": [
    "## _Else e Finally_"
   ]
  },
  {
   "cell_type": "code",
   "execution_count": 35,
   "metadata": {},
   "outputs": [
    {
     "name": "stdout",
     "output_type": "stream",
     "text": [
      "O index procurado não existe\n",
      "Prossiga com o código\n",
      "\n",
      "3\n",
      "Código válido\n",
      "Prossiga com o código\n"
     ]
    }
   ],
   "source": [
    "# Else - executa quando o try é validado\n",
    "# Finally - executa independentemente do resultado do trecho\n",
    "\n",
    "def tentativa(x):\n",
    "    try:\n",
    "        list = [1, 2, 3]\n",
    "        print(list[x])\n",
    "    except IndexError:\n",
    "        print('O index procurado não existe')\n",
    "    else: \n",
    "        print('Código válido')\n",
    "    finally:\n",
    "        print('Prossiga com o código')\n",
    "\n",
    "tentativa(3)\n",
    "print()\n",
    "tentativa(2)\n"
   ]
  },
  {
   "cell_type": "markdown",
   "metadata": {},
   "source": [
    "# Classe\n",
    "---"
   ]
  },
  {
   "cell_type": "markdown",
   "metadata": {},
   "source": [
    "## _Conhecendo Classes_"
   ]
  },
  {
   "cell_type": "code",
   "execution_count": 42,
   "metadata": {},
   "outputs": [
    {
     "name": "stdout",
     "output_type": "stream",
     "text": [
      "Aluno: Pedro, idade: 20.\n",
      "Estudante do curso de Física.\n",
      "\n",
      "Aluno: Giovana, idade: 19.\n",
      "Estudante do curso de Física.\n"
     ]
    }
   ],
   "source": [
    "# Utilizada para criar objetos (instâncias)\n",
    "# Objetos fazem parte de uma classe\n",
    "# Classes são utilizadas para armazenar dados e funções e reutilizá-las \n",
    "# A primeira letra de uma classe deve ser maiúscula\n",
    "\n",
    "class Aluno:\n",
    "    nome = 'Pedro'\n",
    "    idade = 20\n",
    "    curso = 'Física'\n",
    "\n",
    "class Aluna:\n",
    "    nome = 'Giovana'\n",
    "    idade = 19\n",
    "    curso = 'Física'\n",
    "\n",
    "# Objeto da classe\n",
    "usuário1 = Aluno()\n",
    "usuário2 = Aluna()\n",
    "\n",
    "print(f'Aluno: {usuário1.nome}, idade: {usuário1.idade}.\\nEstudante do curso de {usuário1.curso}.')\n",
    "print()\n",
    "print(f'Aluno: {usuário2.nome}, idade: {usuário2.idade}.\\nEstudante do curso de {usuário2.curso}.')\n"
   ]
  },
  {
   "cell_type": "code",
   "execution_count": 44,
   "metadata": {},
   "outputs": [
    {
     "name": "stdout",
     "output_type": "stream",
     "text": [
      "José e Maria.\n"
     ]
    }
   ],
   "source": [
    "# Dados como parâmetros\n",
    "\n",
    "class Aluno:\n",
    "    pass\n",
    "\n",
    "usuário1 = Aluno()\n",
    "usuário2 = Aluno()\n",
    "\n",
    "usuário1.nome = 'José'\n",
    "usuário2.nome = 'Maria'\n",
    "\n",
    "print(f'{usuário1.nome} e {usuário2.nome}.')"
   ]
  },
  {
   "cell_type": "markdown",
   "metadata": {},
   "source": [
    "## _Construtores e Funções_"
   ]
  },
  {
   "cell_type": "code",
   "execution_count": 58,
   "metadata": {},
   "outputs": [
    {
     "name": "stdout",
     "output_type": "stream",
     "text": [
      "Pedro André, Físico.\n",
      "Frederico Afonso, Programador.\n",
      "\n",
      "Pedro André, Físico.\n",
      "Frederico Afonso, Programador.\n"
     ]
    }
   ],
   "source": [
    "# Construtores reduzem as linhas de código\n",
    "# Self - referência cada variável ao objeto sendo utilizado (self = objeto)\n",
    "\n",
    "class Funcionário:\n",
    "\n",
    "    def __init__(self, nome, sobrenome, cargo):\n",
    "        self.nome = nome\n",
    "        self.sobrenome = sobrenome\n",
    "        self.cargo = cargo\n",
    "\n",
    "    \n",
    "    def ficha(self):\n",
    "        print(f'{self.nome} {self.sobrenome}, {self.cargo}.')\n",
    "\n",
    "func1 = Funcionário('Pedro', 'André', 'Físico')\n",
    "func2 = Funcionário('Frederico', 'Afonso', 'Programador')\n",
    "\n",
    "# Sem utilizar a função dentro da classe\n",
    "print(f'{func1.nome} {func1.sobrenome}, {func1.cargo}.')\n",
    "print(f'{func2.nome} {func2.sobrenome}, {func2.cargo}.')\n",
    "\n",
    "print()\n",
    "\n",
    "# Utilizando a função dentro da classe\n",
    "func1.ficha()\n",
    "func2.ficha()"
   ]
  }
 ],
 "metadata": {
  "interpreter": {
   "hash": "ff01f97d59fbc8cde662b76096893a9ce5160a328c50547c0e466ce162ff3453"
  },
  "kernelspec": {
   "display_name": "Python 3.9.9 64-bit (windows store)",
   "language": "python",
   "name": "python3"
  },
  "language_info": {
   "codemirror_mode": {
    "name": "ipython",
    "version": 3
   },
   "file_extension": ".py",
   "mimetype": "text/x-python",
   "name": "python",
   "nbconvert_exporter": "python",
   "pygments_lexer": "ipython3",
   "version": "3.9.9"
  },
  "orig_nbformat": 4
 },
 "nbformat": 4,
 "nbformat_minor": 2
}
