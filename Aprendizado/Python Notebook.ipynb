{
 "cells": [
  {
   "cell_type": "markdown",
   "metadata": {},
   "source": [
    "# Python Básico\n",
    "---"
   ]
  },
  {
   "cell_type": "markdown",
   "metadata": {},
   "source": [
    "## _Print_"
   ]
  },
  {
   "cell_type": "code",
   "execution_count": 4,
   "metadata": {},
   "outputs": [
    {
     "name": "stdout",
     "output_type": "stream",
     "text": [
      "Oi\n"
     ]
    }
   ],
   "source": [
    "# Mostra o dado dentro dos parenteses\n",
    "\n",
    "print('Oi')"
   ]
  },
  {
   "cell_type": "markdown",
   "metadata": {},
   "source": [
    "## _Comentários_"
   ]
  },
  {
   "cell_type": "code",
   "execution_count": null,
   "metadata": {},
   "outputs": [],
   "source": [
    "# Comentário de única linha\n",
    "\n",
    "'''\n",
    "Comentário de múltiplas linhas\n",
    "'''"
   ]
  },
  {
   "cell_type": "markdown",
   "metadata": {},
   "source": [
    "## _Tipos de Dados_"
   ]
  },
  {
   "cell_type": "markdown",
   "metadata": {},
   "source": [
    "- String - Texto\n",
    "- Integer/Float - Número\n",
    "- Boolean - Verdadeiro ou Falso\n"
   ]
  },
  {
   "cell_type": "markdown",
   "metadata": {},
   "source": [
    "## _Variáveis_"
   ]
  },
  {
   "cell_type": "code",
   "execution_count": 10,
   "metadata": {},
   "outputs": [],
   "source": [
    "# Definindo o nome de uma variável e o valor dela\n",
    "\n",
    "A = 30 #int\n",
    "B = 3.5 #float\n",
    "C = 'Olá' #string"
   ]
  },
  {
   "cell_type": "code",
   "execution_count": 11,
   "metadata": {},
   "outputs": [
    {
     "name": "stdout",
     "output_type": "stream",
     "text": [
      "3030\n",
      "6\n",
      "6\n"
     ]
    }
   ],
   "source": [
    "#Modificando o tipo do dado\n",
    "\n",
    "D = str(30)\n",
    "E = int(3.5)\n",
    "F = int('3')\n",
    "\n",
    "print(D + D)\n",
    "print(E + E)\n",
    "print(F + F)"
   ]
  },
  {
   "cell_type": "code",
   "execution_count": 9,
   "metadata": {},
   "outputs": [
    {
     "name": "stdout",
     "output_type": "stream",
     "text": [
      "O Pedro tem 19 anos e mora em Peruíbe.\n"
     ]
    }
   ],
   "source": [
    "#Integrando variáveis em um print\n",
    "\n",
    "#O Pedro tem 19 anos e mora em Peruíbe.\n",
    "\n",
    "nome = 'Pedro' \n",
    "idade = 19\n",
    "cidade = 'Peruíbe'\n",
    "\n",
    "print('O ' + nome + ' tem ' + str(idade) + ' anos e mora em ' + cidade + '.')"
   ]
  },
  {
   "cell_type": "markdown",
   "metadata": {},
   "source": [
    "## _Entrada de Dados: Input_"
   ]
  },
  {
   "cell_type": "code",
   "execution_count": 17,
   "metadata": {},
   "outputs": [
    {
     "name": "stdout",
     "output_type": "stream",
     "text": [
      "João\n"
     ]
    }
   ],
   "source": [
    "# Definindo uma variável com um input\n",
    "\n",
    "nome = input('Qual é o seu nome?') \n",
    "print(nome)"
   ]
  },
  {
   "cell_type": "code",
   "execution_count": 1,
   "metadata": {},
   "outputs": [
    {
     "name": "stdout",
     "output_type": "stream",
     "text": [
      "<class 'int'>\n",
      "Idade: 20 anos.\n"
     ]
    }
   ],
   "source": [
    "# Calculando a idade com um input\n",
    "\n",
    "ano = input('Em que ano você nasceu?')\n",
    "idade = int(2022 - int(ano))\n",
    "\n",
    "print(type(idade))\n",
    "print('Idade: ' + str(idade) + ' anos.')"
   ]
  },
  {
   "cell_type": "markdown",
   "metadata": {},
   "source": [
    "## _Slice_"
   ]
  },
  {
   "cell_type": "code",
   "execution_count": 23,
   "metadata": {},
   "outputs": [
    {
     "name": "stdout",
     "output_type": "stream",
     "text": [
      "A\n",
      "Abaca\n",
      "tac\n",
      "3\n",
      "3.1\n",
      "41.3\n"
     ]
    }
   ],
   "source": [
    "# Printa as posições especificadas de uma variável string\n",
    "#        0123456 \n",
    "\n",
    "fruta = 'Abacate'\n",
    "valor = 3.14\n",
    "valor = str(valor)\n",
    "\n",
    "print(fruta[0])\n",
    "print(fruta[0:5])\n",
    "print(fruta[5:2:-1])\n",
    "\n",
    "print(valor[0])\n",
    "print(valor[0:3])\n",
    "print(valor[::-1])\n"
   ]
  },
  {
   "cell_type": "markdown",
   "metadata": {},
   "source": [
    "## _Formated String_"
   ]
  },
  {
   "cell_type": "code",
   "execution_count": 26,
   "metadata": {},
   "outputs": [
    {
     "name": "stdout",
     "output_type": "stream",
     "text": [
      "A Giovana é minha namorada e ela é muito linda.\n",
      "A Giovana é minha namorada e ela é muito linda.\n"
     ]
    }
   ],
   "source": [
    "# Facilita a incerção de variáveis dentro de uma string\n",
    "\n",
    "# A Giovana é minha namorada e ela é muito linda.\n",
    "\n",
    "nome = 'Giovana'\n",
    "relação = 'namorada'\n",
    "adjetivo = 'linda'\n",
    "\n",
    "# Sem formated string\n",
    "texto1 = 'A ' + nome + ' é minha ' + relação + ' e ela é muito ' + adjetivo + '.'\n",
    "\n",
    "# Com formated string\n",
    "texto2 = f'A {nome} é minha {relação} e ela é muito {adjetivo}.'\n",
    "\n",
    "print(texto1)\n",
    "print(texto2)\n"
   ]
  },
  {
   "cell_type": "markdown",
   "metadata": {},
   "source": [
    "## _Métodos para Strings_"
   ]
  },
  {
   "cell_type": "code",
   "execution_count": 48,
   "metadata": {},
   "outputs": [
    {
     "name": "stdout",
     "output_type": "stream",
     "text": [
      "Olá meu nome é pedro\n",
      "5\n",
      "OLÁ MEU NOME É PEDRO\n",
      "olá meu nome é pedro\n",
      "olá mau noma é Padro\n",
      "3\n"
     ]
    }
   ],
   "source": [
    "# Métodos para manipular as strings no print\n",
    "\n",
    "mensagem = 'olá meu nome é Pedro'\n",
    "\n",
    "print(mensagem.capitalize())\n",
    "print(mensagem.find('e'))\n",
    "print(mensagem.upper())\n",
    "print(mensagem.lower())\n",
    "print(mensagem.replace('e','a'))\n",
    "print(mensagem.count('e'))"
   ]
  },
  {
   "cell_type": "markdown",
   "metadata": {},
   "source": [
    "# Operadores\n",
    "---"
   ]
  },
  {
   "cell_type": "markdown",
   "metadata": {},
   "source": [
    "## Operadores Matemáticos"
   ]
  },
  {
   "cell_type": "code",
   "execution_count": 54,
   "metadata": {},
   "outputs": [],
   "source": [
    "# Variáveis \n",
    "\n",
    "x = 5\n",
    "y = 2"
   ]
  },
  {
   "cell_type": "code",
   "execution_count": 60,
   "metadata": {},
   "outputs": [
    {
     "name": "stdout",
     "output_type": "stream",
     "text": [
      "7\n",
      "3\n"
     ]
    }
   ],
   "source": [
    "# Adição \n",
    "print(x + y)\n",
    "\n",
    "# Subtração \n",
    "print(x - y)"
   ]
  },
  {
   "cell_type": "code",
   "execution_count": 59,
   "metadata": {},
   "outputs": [
    {
     "name": "stdout",
     "output_type": "stream",
     "text": [
      "7\n",
      "25\n"
     ]
    }
   ],
   "source": [
    "# Multiplicação\n",
    "print(x + y)\n",
    "\n",
    "# Exponenciação\n",
    "print(x ** y)"
   ]
  },
  {
   "cell_type": "code",
   "execution_count": 61,
   "metadata": {},
   "outputs": [
    {
     "name": "stdout",
     "output_type": "stream",
     "text": [
      "2.5\n",
      "2\n",
      "1\n"
     ]
    }
   ],
   "source": [
    "# Divisão\n",
    "print(x / y)\n",
    "\n",
    "# Divisão Inteiro\n",
    "print(x // y)\n",
    "\n",
    "# Divisão Resto\n",
    "print(x % y)"
   ]
  },
  {
   "cell_type": "markdown",
   "metadata": {},
   "source": [
    "## Operadores de Comparação"
   ]
  },
  {
   "cell_type": "code",
   "execution_count": 66,
   "metadata": {},
   "outputs": [
    {
     "name": "stdout",
     "output_type": "stream",
     "text": [
      "True\n",
      "False\n",
      "True\n",
      "False\n",
      "True\n",
      "False\n"
     ]
    }
   ],
   "source": [
    "# Equal\n",
    "operadores = 10 == 10\n",
    "print(operadores)\n",
    "\n",
    "# Not Equal \n",
    "operadores = 10 != 10\n",
    "print(operadores)\n",
    "\n",
    "# Greater Than\n",
    "operadores = 10 > 5\n",
    "print(operadores)\n",
    "\n",
    "# Less Than \n",
    "operadores = 10 < 5\n",
    "print(operadores)\n",
    "\n",
    "# Greater Than or Less To\n",
    "operadores = 10 >= 10\n",
    "print(operadores)\n",
    "\n",
    "# Less Than or Equal To\n",
    "operadores = 15 <= 10\n",
    "print(operadores)"
   ]
  },
  {
   "cell_type": "markdown",
   "metadata": {},
   "source": [
    "## Operadores de Atribuição"
   ]
  },
  {
   "cell_type": "code",
   "execution_count": 74,
   "metadata": {},
   "outputs": [
    {
     "name": "stdout",
     "output_type": "stream",
     "text": [
      "x = 7, y = 3 e z = 25.\n"
     ]
    }
   ],
   "source": [
    "# Uma alternativa para simplificar cálculos \n",
    "\n",
    "x = 5\n",
    "y = 5\n",
    "z = 5 \n",
    "\n",
    "# x = x + 2\n",
    "x += 2\n",
    "\n",
    "# y = y - 2\n",
    "y -= 2\n",
    "\n",
    "# z = z ** 2\n",
    "z **= 2  \n",
    "\n",
    "print(f'x = {x}, y = {y} e z = {z}.')"
   ]
  },
  {
   "cell_type": "markdown",
   "metadata": {},
   "source": [
    "# Controle de Fluxo\n",
    "---\n"
   ]
  },
  {
   "cell_type": "markdown",
   "metadata": {},
   "source": [
    "## _If, Elif e Else_"
   ]
  },
  {
   "cell_type": "code",
   "execution_count": 79,
   "metadata": {},
   "outputs": [
    {
     "name": "stdout",
     "output_type": "stream",
     "text": [
      "Você excedeu a velocidade permitida\n",
      "Você está OK\n",
      "Você está muito lento\n"
     ]
    }
   ],
   "source": [
    "# Determinando instruções para situações condicionais\n",
    "\n",
    "#If - Se a condição for verdadeira, executa o código\n",
    "#Elif - Se a condição for verdadeira e as anteriores falsas, executa o código\n",
    "#Else - Se nenhuma das condições anteriores forem verdadeiras, executa o código\n",
    "\n",
    "velocidade = 100\n",
    "if velocidade > 90:\n",
    "    print('Você excedeu a velocidade permitida')\n",
    "\n",
    "velocidade = 80\n",
    "if velocidade > 90:\n",
    "    print('Você excedeu a velocidade permitida')\n",
    "elif velocidade > 70:\n",
    "    print('Você está OK')\n",
    "elif velocidade > 50:\n",
    "    print('Você está muito lento')\n",
    "\n",
    "velocidade = 70\n",
    "if velocidade > 90:\n",
    "    print('Você excedeu a velocidade permitida')\n",
    "elif velocidade > 70:\n",
    "    print('Você está OK')\n",
    "else:\n",
    "    print('Você está muito lento')\n",
    "\n",
    "\n"
   ]
  },
  {
   "cell_type": "markdown",
   "metadata": {},
   "source": [
    "## _Operadores Lógicos_"
   ]
  },
  {
   "cell_type": "code",
   "execution_count": 82,
   "metadata": {},
   "outputs": [
    {
     "name": "stdout",
     "output_type": "stream",
     "text": [
      "Aprovado\n",
      "Reprovado\n",
      "Aprovado\n",
      "Aprovado\n"
     ]
    }
   ],
   "source": [
    "# Verifica duas ou mais condições em um if\n",
    "\n",
    "nota = 7\n",
    "frequência = 75\n",
    "\n",
    "#And\n",
    "if nota >= 7 and frequência >=75:\n",
    "    print('Aprovado')\n",
    "\n",
    "if nota >= 7.5 and frequência >=75:\n",
    "    print('Aprovado')\n",
    "else:\n",
    "    print('Reprovado')\n",
    "\n",
    "#Or\n",
    "if nota >= 7 or frequência >=75:\n",
    "    print('Aprovado')\n",
    "\n",
    "if nota >= 7.5 or frequência >=75:\n",
    "    print('Aprovado')\n",
    "else:\n",
    "    print('Reprovado')\n"
   ]
  },
  {
   "cell_type": "code",
   "execution_count": 87,
   "metadata": {},
   "outputs": [
    {
     "name": "stdout",
     "output_type": "stream",
     "text": [
      "Recuperação\n"
     ]
    }
   ],
   "source": [
    "nota = 5\n",
    "\n",
    "if 4 <= nota <= 7:\n",
    "    print('Recuperação')"
   ]
  },
  {
   "cell_type": "markdown",
   "metadata": {},
   "source": [
    "## _Operador Ternário_"
   ]
  },
  {
   "cell_type": "code",
   "execution_count": 86,
   "metadata": {},
   "outputs": [
    {
     "name": "stdout",
     "output_type": "stream",
     "text": [
      "Voto não permitido\n"
     ]
    }
   ],
   "source": [
    "# Simplifica o If e Else\n",
    "\n",
    "idade = 15\n",
    "\n",
    "resultado = 'Voto permitido' if idade >= 16 else 'Voto não permitido'\n",
    "print(resultado)"
   ]
  },
  {
   "cell_type": "markdown",
   "metadata": {},
   "source": [
    "## _For Loop_"
   ]
  },
  {
   "cell_type": "code",
   "execution_count": 17,
   "metadata": {},
   "outputs": [
    {
     "name": "stdout",
     "output_type": "stream",
     "text": [
      "5\n",
      "7\n",
      "9\n"
     ]
    }
   ],
   "source": [
    "# For Loop para números\n",
    "\n",
    "for número in range(5, 10, 2):\n",
    "    print(número)"
   ]
  },
  {
   "cell_type": "code",
   "execution_count": 20,
   "metadata": {},
   "outputs": [
    {
     "name": "stdout",
     "output_type": "stream",
     "text": [
      "G\n",
      "I\n",
      "O\n",
      "L\n",
      "I\n",
      "N\n",
      "D\n",
      "A\n"
     ]
    }
   ],
   "source": [
    "# For Loop para strings\n",
    "\n",
    "palavra = 'Giolinda'\n",
    "\n",
    "for letra in palavra:\n",
    "    print(letra.upper())"
   ]
  },
  {
   "cell_type": "markdown",
   "metadata": {},
   "source": [
    "## _For + If/Else_"
   ]
  },
  {
   "cell_type": "code",
   "execution_count": 34,
   "metadata": {},
   "outputs": [
    {
     "name": "stdout",
     "output_type": "stream",
     "text": [
      "Restam 2 tentativas até a compra ser rejeitada.\n",
      "Restam 1 tentativas até a compra ser rejeitada.\n",
      "A sua compra foi confirmada.\n"
     ]
    }
   ],
   "source": [
    "# Integração de um loop com uma condicional\n",
    "\n",
    "confirmação = False\n",
    "contador = 0\n",
    "tentativas = 3\n",
    "\n",
    "for enviar in range(3):\n",
    "    if confirmação:\n",
    "        print('A sua compra foi confirmada.')\n",
    "        break\n",
    "    contador += 1\n",
    "    tentativas-=1\n",
    "    confirmação = True if contador == 2 else False \n",
    "    print(f'Restam {tentativas} tentativas até a compra ser rejeitada.')\n",
    "        \n",
    "else:\n",
    "    print ('A sua compra não foi confirmada.')"
   ]
  },
  {
   "cell_type": "markdown",
   "metadata": {},
   "source": [
    "## _For + For (Nested)_"
   ]
  },
  {
   "cell_type": "code",
   "execution_count": 40,
   "metadata": {},
   "outputs": [
    {
     "name": "stdout",
     "output_type": "stream",
     "text": [
      "Produto 1\n",
      "1 0\n",
      "1 1\n",
      "1 2\n",
      "1 3\n",
      "1 4\n",
      "Produto 2\n",
      "2 0\n",
      "2 1\n",
      "2 2\n",
      "2 3\n",
      "2 4\n"
     ]
    }
   ],
   "source": [
    "# Integração de dois ou mais loops\n",
    "\n",
    "for produto in range(1,3):\n",
    "    print(f'Produto {produto}')\n",
    "    for quantidade in range (5):\n",
    "        print (produto, quantidade)"
   ]
  },
  {
   "cell_type": "markdown",
   "metadata": {},
   "source": [
    "## _Separando Strings_"
   ]
  },
  {
   "cell_type": "code",
   "execution_count": 49,
   "metadata": {},
   "outputs": [
    {
     "name": "stdout",
     "output_type": "stream",
     "text": [
      "S E P A R A D O R "
     ]
    }
   ],
   "source": [
    "# Separando as letras de uma string\n",
    "\n",
    "palavra = 'SEPARADOR'\n",
    "\n",
    "for separa in palavra:\n",
    "    print(f'{separa} ', end='')"
   ]
  },
  {
   "cell_type": "code",
   "execution_count": 48,
   "metadata": {},
   "outputs": [
    {
     "name": "stdout",
     "output_type": "stream",
     "text": [
      "@@@@@@@@@@\n",
      "@@@@@@@@@@\n",
      "@@@@@@@@@@\n"
     ]
    }
   ],
   "source": [
    "# Fazendo um retângulo com for loop nested\n",
    "\n",
    "'''\n",
    "@@@@@@@@@@\n",
    "@@@@@@@@@@\n",
    "@@@@@@@@@@\n",
    "'''\n",
    "\n",
    "for linha in range(3):\n",
    "    for coluna in range (10):\n",
    "        print('@', end='')\n",
    "    print()"
   ]
  },
  {
   "cell_type": "markdown",
   "metadata": {},
   "source": [
    "## _While Loop_"
   ]
  },
  {
   "cell_type": "code",
   "execution_count": 59,
   "metadata": {},
   "outputs": [
    {
     "name": "stdout",
     "output_type": "stream",
     "text": [
      "No 1° dia de vendas o preço do tênis foi R$100.0.\n",
      "No 2° dia de vendas o preço do tênis foi R$95.0.\n",
      "No 3° dia de vendas o preço do tênis foi R$90.0.\n",
      "No 4° dia de vendas o preço do tênis foi R$85.0.\n",
      "No 5° dia de vendas o preço do tênis foi R$80.0.\n",
      "No 6° dia de vendas o preço do tênis foi R$75.0.\n",
      "No 7° dia de vendas o preço do tênis foi R$70.0.\n"
     ]
    }
   ],
   "source": [
    "# Loop que depende de uma condição\n",
    "\n",
    "#Valor do tênis cai com o passar dos dias, com o limite de R$70.0\n",
    "\n",
    "valor = 100\n",
    "valor = float(valor)\n",
    "dia = 1\n",
    "\n",
    "while valor >= 70:\n",
    "    print(f'No {dia}° dia de vendas o preço do tênis foi R${valor}.')\n",
    "    valor -= 5\n",
    "    dia += 1"
   ]
  },
  {
   "cell_type": "markdown",
   "metadata": {},
   "source": [
    "# Funções\n",
    "---"
   ]
  }
 ],
 "metadata": {
  "interpreter": {
   "hash": "ff01f97d59fbc8cde662b76096893a9ce5160a328c50547c0e466ce162ff3453"
  },
  "kernelspec": {
   "display_name": "Python 3.9.9 64-bit (windows store)",
   "language": "python",
   "name": "python3"
  },
  "language_info": {
   "codemirror_mode": {
    "name": "ipython",
    "version": 3
   },
   "file_extension": ".py",
   "mimetype": "text/x-python",
   "name": "python",
   "nbconvert_exporter": "python",
   "pygments_lexer": "ipython3",
   "version": "3.9.9"
  },
  "orig_nbformat": 4
 },
 "nbformat": 4,
 "nbformat_minor": 2
}
