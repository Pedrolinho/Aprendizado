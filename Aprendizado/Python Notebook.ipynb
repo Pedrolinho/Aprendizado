{
 "cells": [
  {
   "cell_type": "markdown",
   "metadata": {},
   "source": [
    "# Python Básico"
   ]
  },
  {
   "cell_type": "markdown",
   "metadata": {},
   "source": [
    "## Print"
   ]
  },
  {
   "cell_type": "code",
   "execution_count": 4,
   "metadata": {},
   "outputs": [
    {
     "name": "stdout",
     "output_type": "stream",
     "text": [
      "Oi\n"
     ]
    }
   ],
   "source": [
    "# Mostra o dado dentro dos parenteses\n",
    "\n",
    "print('Oi')"
   ]
  },
  {
   "cell_type": "markdown",
   "metadata": {},
   "source": [
    "## Comentários"
   ]
  },
  {
   "cell_type": "code",
   "execution_count": null,
   "metadata": {},
   "outputs": [],
   "source": [
    "# Comentário de única linha\n",
    "\n",
    "'''\n",
    "Comentário de múltiplas linhas\n",
    "'''"
   ]
  },
  {
   "cell_type": "markdown",
   "metadata": {},
   "source": [
    "## Tipos de Dados"
   ]
  },
  {
   "cell_type": "markdown",
   "metadata": {},
   "source": [
    "- String - Texto\n",
    "- Integer/Float - Número\n",
    "- Boolean - Verdadeiro ou Falso\n"
   ]
  },
  {
   "cell_type": "markdown",
   "metadata": {},
   "source": [
    "## Variáveis"
   ]
  },
  {
   "cell_type": "code",
   "execution_count": 10,
   "metadata": {},
   "outputs": [],
   "source": [
    "# Definindo o nome de uma variável e o valor dela\n",
    "\n",
    "A = 30 #int\n",
    "B = 3.5 #float\n",
    "C = 'Olá' #string"
   ]
  },
  {
   "cell_type": "code",
   "execution_count": 11,
   "metadata": {},
   "outputs": [
    {
     "name": "stdout",
     "output_type": "stream",
     "text": [
      "3030\n",
      "6\n",
      "6\n"
     ]
    }
   ],
   "source": [
    "#Modificando o tipo do dado\n",
    "\n",
    "D = str(30)\n",
    "E = int(3.5)\n",
    "F = int('3')\n",
    "\n",
    "print(D + D)\n",
    "print(E + E)\n",
    "print(F + F)"
   ]
  },
  {
   "cell_type": "code",
   "execution_count": 9,
   "metadata": {},
   "outputs": [
    {
     "name": "stdout",
     "output_type": "stream",
     "text": [
      "O Pedro tem 19 anos e mora em Peruíbe.\n"
     ]
    }
   ],
   "source": [
    "#Integrando variáveis em um print\n",
    "\n",
    "#O Pedro tem 19 anos e mora em Peruíbe.\n",
    "\n",
    "nome = 'Pedro' \n",
    "idade = 19\n",
    "cidade = 'Peruíbe'\n",
    "\n",
    "print('O ' + nome + ' tem ' + str(idade) + ' anos e mora em ' + cidade + '.')"
   ]
  },
  {
   "cell_type": "markdown",
   "metadata": {},
   "source": [
    "## Entrada de Dados: Input"
   ]
  },
  {
   "cell_type": "code",
   "execution_count": 17,
   "metadata": {},
   "outputs": [
    {
     "name": "stdout",
     "output_type": "stream",
     "text": [
      "João\n"
     ]
    }
   ],
   "source": [
    "# Definindo uma variável com um input\n",
    "\n",
    "nome = input('Qual é o seu nome?') \n",
    "print(nome)"
   ]
  },
  {
   "cell_type": "code",
   "execution_count": 35,
   "metadata": {},
   "outputs": [
    {
     "name": "stdout",
     "output_type": "stream",
     "text": [
      "<class 'int'>\n",
      "Idade: 20 anos.\n"
     ]
    }
   ],
   "source": [
    "# Calculando a idade com um input\n",
    "\n",
    "ano = input('Em que ano você nasceu?')\n",
    "idade = int(2022 - int(ano))\n",
    "\n",
    "print(type(idade))\n",
    "print('Idade: ' + str(idade) + ' anos.')"
   ]
  }
 ],
 "metadata": {
  "interpreter": {
   "hash": "ff01f97d59fbc8cde662b76096893a9ce5160a328c50547c0e466ce162ff3453"
  },
  "kernelspec": {
   "display_name": "Python 3.9.9 64-bit (windows store)",
   "language": "python",
   "name": "python3"
  },
  "language_info": {
   "codemirror_mode": {
    "name": "ipython",
    "version": 3
   },
   "file_extension": ".py",
   "mimetype": "text/x-python",
   "name": "python",
   "nbconvert_exporter": "python",
   "pygments_lexer": "ipython3",
   "version": "3.9.9"
  },
  "orig_nbformat": 4
 },
 "nbformat": 4,
 "nbformat_minor": 2
}
