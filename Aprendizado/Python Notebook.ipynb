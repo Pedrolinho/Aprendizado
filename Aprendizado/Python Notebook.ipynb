{
 "cells": [
  {
   "cell_type": "markdown",
   "metadata": {},
   "source": [
    "# Python Básico\n",
    "---"
   ]
  },
  {
   "cell_type": "markdown",
   "metadata": {},
   "source": [
    "## _Print_"
   ]
  },
  {
   "cell_type": "code",
   "execution_count": 4,
   "metadata": {},
   "outputs": [
    {
     "name": "stdout",
     "output_type": "stream",
     "text": [
      "Oi\n"
     ]
    }
   ],
   "source": [
    "# Mostra o dado dentro dos parenteses\n",
    "\n",
    "print('Oi')"
   ]
  },
  {
   "cell_type": "markdown",
   "metadata": {},
   "source": [
    "## _Comentários_"
   ]
  },
  {
   "cell_type": "code",
   "execution_count": null,
   "metadata": {},
   "outputs": [],
   "source": [
    "# Comentário de única linha\n",
    "\n",
    "'''\n",
    "Comentário de múltiplas linhas\n",
    "'''"
   ]
  },
  {
   "cell_type": "markdown",
   "metadata": {},
   "source": [
    "## _Tipos de Dados_"
   ]
  },
  {
   "cell_type": "markdown",
   "metadata": {},
   "source": [
    "- String - Texto\n",
    "- Integer/Float - Número\n",
    "- Boolean - Verdadeiro ou Falso\n"
   ]
  },
  {
   "cell_type": "markdown",
   "metadata": {},
   "source": [
    "## _Variáveis_"
   ]
  },
  {
   "cell_type": "code",
   "execution_count": 10,
   "metadata": {},
   "outputs": [],
   "source": [
    "# Definindo o nome de uma variável e o valor dela\n",
    "\n",
    "A = 30 #int\n",
    "B = 3.5 #float\n",
    "C = 'Olá' #string"
   ]
  },
  {
   "cell_type": "code",
   "execution_count": 11,
   "metadata": {},
   "outputs": [
    {
     "name": "stdout",
     "output_type": "stream",
     "text": [
      "3030\n",
      "6\n",
      "6\n"
     ]
    }
   ],
   "source": [
    "#Modificando o tipo do dado\n",
    "\n",
    "D = str(30)\n",
    "E = int(3.5)\n",
    "F = int('3')\n",
    "\n",
    "print(D + D)\n",
    "print(E + E)\n",
    "print(F + F)"
   ]
  },
  {
   "cell_type": "code",
   "execution_count": 9,
   "metadata": {},
   "outputs": [
    {
     "name": "stdout",
     "output_type": "stream",
     "text": [
      "O Pedro tem 19 anos e mora em Peruíbe.\n"
     ]
    }
   ],
   "source": [
    "#Integrando variáveis em um print\n",
    "\n",
    "#O Pedro tem 19 anos e mora em Peruíbe.\n",
    "\n",
    "nome = 'Pedro' \n",
    "idade = 19\n",
    "cidade = 'Peruíbe'\n",
    "\n",
    "print('O ' + nome + ' tem ' + str(idade) + ' anos e mora em ' + cidade + '.')"
   ]
  },
  {
   "cell_type": "markdown",
   "metadata": {},
   "source": [
    "## _Entrada de Dados: Input_"
   ]
  },
  {
   "cell_type": "code",
   "execution_count": 17,
   "metadata": {},
   "outputs": [
    {
     "name": "stdout",
     "output_type": "stream",
     "text": [
      "João\n"
     ]
    }
   ],
   "source": [
    "# Definindo uma variável com um input\n",
    "\n",
    "nome = input('Qual é o seu nome?') \n",
    "print(nome)"
   ]
  },
  {
   "cell_type": "code",
   "execution_count": 25,
   "metadata": {},
   "outputs": [
    {
     "name": "stdout",
     "output_type": "stream",
     "text": [
      "<class 'int'>\n",
      "Idade: 20 anos.\n"
     ]
    }
   ],
   "source": [
    "# Calculando a idade com um input\n",
    "\n",
    "ano = input('Em que ano você nasceu?')\n",
    "idade = int(2022 - int(ano))\n",
    "\n",
    "print(type(idade))\n",
    "print('Idade: ' + str(idade) + ' anos.')"
   ]
  },
  {
   "cell_type": "markdown",
   "metadata": {},
   "source": [
    "## _Slice_"
   ]
  },
  {
   "cell_type": "code",
   "execution_count": 23,
   "metadata": {},
   "outputs": [
    {
     "name": "stdout",
     "output_type": "stream",
     "text": [
      "A\n",
      "Abaca\n",
      "tac\n",
      "3\n",
      "3.1\n",
      "41.3\n"
     ]
    }
   ],
   "source": [
    "# Printa as posições especificadas de uma variável string\n",
    "#        0123456 \n",
    "\n",
    "fruta = 'Abacate'\n",
    "valor = 3.14\n",
    "valor = str(valor)\n",
    "\n",
    "print(fruta[0])\n",
    "print(fruta[0:5])\n",
    "print(fruta[5:2:-1])\n",
    "\n",
    "print(valor[0])\n",
    "print(valor[0:3])\n",
    "print(valor[::-1])\n"
   ]
  },
  {
   "cell_type": "markdown",
   "metadata": {},
   "source": [
    "## _Formated String_"
   ]
  },
  {
   "cell_type": "code",
   "execution_count": 26,
   "metadata": {},
   "outputs": [
    {
     "name": "stdout",
     "output_type": "stream",
     "text": [
      "A Giovana é minha namorada e ela é muito linda.\n",
      "A Giovana é minha namorada e ela é muito linda.\n"
     ]
    }
   ],
   "source": [
    "# Facilita a incerção de variáveis dentro de uma string\n",
    "\n",
    "# A Giovana é minha namorada e ela é muito linda.\n",
    "\n",
    "nome = 'Giovana'\n",
    "relação = 'namorada'\n",
    "adjetivo = 'linda'\n",
    "\n",
    "# Sem formated string\n",
    "texto1 = 'A ' + nome + ' é minha ' + relação + ' e ela é muito ' + adjetivo + '.'\n",
    "\n",
    "# Com formated string\n",
    "texto2 = f'A {nome} é minha {relação} e ela é muito {adjetivo}.'\n",
    "\n",
    "print(texto1)\n",
    "print(texto2)\n"
   ]
  },
  {
   "cell_type": "markdown",
   "metadata": {},
   "source": [
    "## _Métodos para Strings_"
   ]
  },
  {
   "cell_type": "code",
   "execution_count": 48,
   "metadata": {},
   "outputs": [
    {
     "name": "stdout",
     "output_type": "stream",
     "text": [
      "Olá meu nome é pedro\n",
      "5\n",
      "OLÁ MEU NOME É PEDRO\n",
      "olá meu nome é pedro\n",
      "olá mau noma é Padro\n",
      "3\n"
     ]
    }
   ],
   "source": [
    "# Métodod para manipular as strings no print\n",
    "\n",
    "mensagem = 'olá meu nome é Pedro'\n",
    "\n",
    "print(mensagem.capitalize())\n",
    "print(mensagem.find('e'))\n",
    "print(mensagem.upper())\n",
    "print(mensagem.lower())\n",
    "print(mensagem.replace('e','a'))\n",
    "print(mensagem.count('e'))"
   ]
  },
  {
   "cell_type": "markdown",
   "metadata": {},
   "source": [
    "# Operadores\n",
    "---"
   ]
  },
  {
   "cell_type": "markdown",
   "metadata": {},
   "source": [
    "## Operadores Matemáticos"
   ]
  },
  {
   "cell_type": "code",
   "execution_count": 54,
   "metadata": {},
   "outputs": [],
   "source": [
    "# Variáveis \n",
    "\n",
    "x = 5\n",
    "y = 2"
   ]
  },
  {
   "cell_type": "code",
   "execution_count": 60,
   "metadata": {},
   "outputs": [
    {
     "name": "stdout",
     "output_type": "stream",
     "text": [
      "7\n",
      "3\n"
     ]
    }
   ],
   "source": [
    "# Adição \n",
    "print(x + y)\n",
    "\n",
    "# Subtração \n",
    "print(x - y)"
   ]
  },
  {
   "cell_type": "code",
   "execution_count": 59,
   "metadata": {},
   "outputs": [
    {
     "name": "stdout",
     "output_type": "stream",
     "text": [
      "7\n",
      "25\n"
     ]
    }
   ],
   "source": [
    "# Multiplicação\n",
    "print(x + y)\n",
    "\n",
    "# Exponenciação\n",
    "print(x ** y)"
   ]
  },
  {
   "cell_type": "code",
   "execution_count": 61,
   "metadata": {},
   "outputs": [
    {
     "name": "stdout",
     "output_type": "stream",
     "text": [
      "2.5\n",
      "2\n",
      "1\n"
     ]
    }
   ],
   "source": [
    "# Divisão\n",
    "print(x / y)\n",
    "\n",
    "# Divisão Inteiro\n",
    "print(x // y)\n",
    "\n",
    "# Divisão Resto\n",
    "print(x % y)"
   ]
  },
  {
   "cell_type": "markdown",
   "metadata": {},
   "source": [
    "## Operadores de Comparação"
   ]
  },
  {
   "cell_type": "code",
   "execution_count": 66,
   "metadata": {},
   "outputs": [
    {
     "name": "stdout",
     "output_type": "stream",
     "text": [
      "True\n",
      "False\n",
      "True\n",
      "False\n",
      "True\n",
      "False\n"
     ]
    }
   ],
   "source": [
    "# Equal\n",
    "operadores = 10 == 10\n",
    "print(operadores)\n",
    "\n",
    "# Not Equal \n",
    "operadores = 10 != 10\n",
    "print(operadores)\n",
    "\n",
    "# Greater Than\n",
    "operadores = 10 > 5\n",
    "print(operadores)\n",
    "\n",
    "# Less Than \n",
    "operadores = 10 < 5\n",
    "print(operadores)\n",
    "\n",
    "# Greater Than or Less To\n",
    "operadores = 10 >= 10\n",
    "print(operadores)\n",
    "\n",
    "# Less Than or Equal To\n",
    "operadores = 15 <= 10\n",
    "print(operadores)"
   ]
  },
  {
   "cell_type": "markdown",
   "metadata": {},
   "source": [
    "## Operadores de Atribuição"
   ]
  },
  {
   "cell_type": "code",
   "execution_count": 74,
   "metadata": {},
   "outputs": [
    {
     "name": "stdout",
     "output_type": "stream",
     "text": [
      "x = 7, y = 3 e z = 25.\n"
     ]
    }
   ],
   "source": [
    "# Uma alternativa para simplificar cálculos \n",
    "\n",
    "x = 5\n",
    "y = 5\n",
    "z = 5 \n",
    "\n",
    "# x = x + 2\n",
    "x += 2\n",
    "\n",
    "# y = y - 2\n",
    "y -= 2\n",
    "\n",
    "# z = z ** 2\n",
    "z **= 2  \n",
    "\n",
    "print(f'x = {x}, y = {y} e z = {z}.')"
   ]
  }
 ],
 "metadata": {
  "interpreter": {
   "hash": "ff01f97d59fbc8cde662b76096893a9ce5160a328c50547c0e466ce162ff3453"
  },
  "kernelspec": {
   "display_name": "Python 3.9.9 64-bit (windows store)",
   "language": "python",
   "name": "python3"
  },
  "language_info": {
   "codemirror_mode": {
    "name": "ipython",
    "version": 3
   },
   "file_extension": ".py",
   "mimetype": "text/x-python",
   "name": "python",
   "nbconvert_exporter": "python",
   "pygments_lexer": "ipython3",
   "version": "3.9.9"
  },
  "orig_nbformat": 4
 },
 "nbformat": 4,
 "nbformat_minor": 2
}
